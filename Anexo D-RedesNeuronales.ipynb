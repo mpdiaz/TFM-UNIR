{
 "cells": [
  {
   "cell_type": "markdown",
   "id": "51f05433-fdca-4378-816f-7fb244c56848",
   "metadata": {},
   "source": [
    "# Redes Neuronales"
   ]
  },
  {
   "cell_type": "code",
   "execution_count": 1,
   "id": "978db982-bb81-4e6a-a6bb-d15f21deaf37",
   "metadata": {},
   "outputs": [],
   "source": [
    "import pandas as pd\n",
    "import numpy as np\n",
    "from sklearn.model_selection import train_test_split\n",
    "from sklearn.preprocessing import StandardScaler, LabelEncoder\n",
    "import tensorflow as tf\n",
    "from tensorflow.keras.models import Sequential\n",
    "from tensorflow.keras.layers import Dense\n"
   ]
  },
  {
   "cell_type": "code",
   "execution_count": 168,
   "id": "8ccc7689-831e-42f5-83f4-694856058783",
   "metadata": {},
   "outputs": [],
   "source": [
    "ruta = \"C:\\\\UNIR\\\\VIDAMA\\\\8. TFM\\\\DatosTFM\\\\EncuestaTratada-v5.xlsx\"\n",
    "estudiantes = pd.read_excel(ruta, header=0)\n",
    "\n",
    "\n",
    "# Separar características (X) y clase (y)\n",
    "X = estudiantes.iloc[:, :-1]  # Todas las columnas excepto la última\n",
    "y = estudiantes.iloc[:, -1]   # Solo la última columna (la clase)\n"
   ]
  },
  {
   "cell_type": "code",
   "execution_count": 170,
   "id": "852c1f01-5dd1-478c-b007-a839a24f97a9",
   "metadata": {},
   "outputs": [],
   "source": [
    "# Dividir el dataset en entrenamiento y prueba\n",
    "\n",
    "X_train, X_test, y_train, y_test = train_test_split(X, y, test_size=0.2, random_state=42)"
   ]
  },
  {
   "cell_type": "code",
   "execution_count": 172,
   "id": "0f87de6d-a6f5-4be8-b34f-60bed65c781f",
   "metadata": {},
   "outputs": [],
   "source": [
    "#Normalizar las características: Estandariza las variables de entrada para que tengan media 0 y desviación estándar 1\n",
    "\n",
    "scaler = StandardScaler()\n",
    "X_train = scaler.fit_transform(X_train)\n",
    "X_test = scaler.transform(X_test)\n"
   ]
  },
  {
   "cell_type": "code",
   "execution_count": 174,
   "id": "c101f218-fb4f-48a4-9d20-b791843a0378",
   "metadata": {},
   "outputs": [],
   "source": [
    "from tensorflow.keras.layers import Input  # Importar la capa de entrada\n",
    "\n",
    "\n",
    "# Crear el modelo secuencial con dos capas ocultas\n",
    "modelo = Sequential([\n",
    "    Input(shape=(X_train.shape[1],)),  # Capa de entrada\n",
    "    Dense(32, activation='relu'),      # Primera capa oculta\n",
    "    Dense(16, activation='relu'),      # Segunda capa oculta\n",
    "    Dense(len(np.unique(y_train)), activation='softmax')  # Capa de salida\n",
    "])\n",
    "\n",
    "'''\n",
    "# Crear el modelo con más capas ocultas\n",
    "modelo = Sequential([\n",
    "    Input(shape=(X_train.shape[1],)),  # Capa de entrada (número de características)\n",
    "    Dense(128, activation='relu'),     # Primera capa oculta con 128 neuronas\n",
    "    Dense(64, activation='relu'),      # Segunda capa oculta con 64 neuronas\n",
    "    Dense(32, activation='relu'),      # Tercera capa oculta con 32 neuronas\n",
    "    Dense(16, activation='relu'),      # Cuarta capa oculta con 16 neuronas\n",
    "    Dense(len(np.unique(y_train)), activation='softmax')  # Capa de salida (una neurona por clase)\n",
    "])\n",
    "\n",
    "\n",
    "# Reduce el sobreajuste desactivando aleatoriamente neuronas durante el entrenamiento.\n",
    "from tensorflow.keras.layers import Dropout\n",
    "\n",
    "modelo = Sequential([\n",
    "    Input(shape=(X_train.shape[1],)),\n",
    "    Dense(128, activation='relu'),\n",
    "    Dropout(0.3),  # Desactiva el 30% de las neuronas de esta capa\n",
    "    Dense(64, activation='relu'),\n",
    "    Dropout(0.3),\n",
    "    Dense(32, activation='relu'),\n",
    "    Dense(16, activation='relu'),\n",
    "    Dense(len(np.unique(y_train)), activation='softmax')\n",
    "])\n",
    "'''\n",
    "# Compilar el modelo\n",
    "modelo.compile(\n",
    "    optimizer='adam',\n",
    "    loss='sparse_categorical_crossentropy',\n",
    "    metrics=['accuracy']\n",
    ")\n"
   ]
  },
  {
   "cell_type": "code",
   "execution_count": 176,
   "id": "dbf736e1-d349-41f3-a23a-c2c8a799a7ed",
   "metadata": {},
   "outputs": [
    {
     "name": "stdout",
     "output_type": "stream",
     "text": [
      "Epoch 1/50\n",
      "\u001b[1m9/9\u001b[0m \u001b[32m━━━━━━━━━━━━━━━━━━━━\u001b[0m\u001b[37m\u001b[0m \u001b[1m2s\u001b[0m 32ms/step - accuracy: 0.4750 - loss: 0.7384 - val_accuracy: 0.6269 - val_loss: 0.6740\n",
      "Epoch 2/50\n",
      "\u001b[1m9/9\u001b[0m \u001b[32m━━━━━━━━━━━━━━━━━━━━\u001b[0m\u001b[37m\u001b[0m \u001b[1m0s\u001b[0m 8ms/step - accuracy: 0.6307 - loss: 0.6489 - val_accuracy: 0.7313 - val_loss: 0.6156\n",
      "Epoch 3/50\n",
      "\u001b[1m9/9\u001b[0m \u001b[32m━━━━━━━━━━━━━━━━━━━━\u001b[0m\u001b[37m\u001b[0m \u001b[1m0s\u001b[0m 8ms/step - accuracy: 0.7239 - loss: 0.5805 - val_accuracy: 0.7761 - val_loss: 0.5925\n",
      "Epoch 4/50\n",
      "\u001b[1m9/9\u001b[0m \u001b[32m━━━━━━━━━━━━━━━━━━━━\u001b[0m\u001b[37m\u001b[0m \u001b[1m0s\u001b[0m 8ms/step - accuracy: 0.7586 - loss: 0.5490 - val_accuracy: 0.7910 - val_loss: 0.5860\n",
      "Epoch 5/50\n",
      "\u001b[1m9/9\u001b[0m \u001b[32m━━━━━━━━━━━━━━━━━━━━\u001b[0m\u001b[37m\u001b[0m \u001b[1m0s\u001b[0m 9ms/step - accuracy: 0.7664 - loss: 0.5410 - val_accuracy: 0.7910 - val_loss: 0.5829\n",
      "Epoch 6/50\n",
      "\u001b[1m9/9\u001b[0m \u001b[32m━━━━━━━━━━━━━━━━━━━━\u001b[0m\u001b[37m\u001b[0m \u001b[1m0s\u001b[0m 9ms/step - accuracy: 0.7839 - loss: 0.4996 - val_accuracy: 0.7910 - val_loss: 0.5809\n",
      "Epoch 7/50\n",
      "\u001b[1m9/9\u001b[0m \u001b[32m━━━━━━━━━━━━━━━━━━━━\u001b[0m\u001b[37m\u001b[0m \u001b[1m0s\u001b[0m 7ms/step - accuracy: 0.7795 - loss: 0.5093 - val_accuracy: 0.7910 - val_loss: 0.5797\n",
      "Epoch 8/50\n",
      "\u001b[1m9/9\u001b[0m \u001b[32m━━━━━━━━━━━━━━━━━━━━\u001b[0m\u001b[37m\u001b[0m \u001b[1m0s\u001b[0m 8ms/step - accuracy: 0.8166 - loss: 0.4559 - val_accuracy: 0.7761 - val_loss: 0.5786\n",
      "Epoch 9/50\n",
      "\u001b[1m9/9\u001b[0m \u001b[32m━━━━━━━━━━━━━━━━━━━━\u001b[0m\u001b[37m\u001b[0m \u001b[1m0s\u001b[0m 9ms/step - accuracy: 0.7742 - loss: 0.5021 - val_accuracy: 0.7761 - val_loss: 0.5765\n",
      "Epoch 10/50\n",
      "\u001b[1m9/9\u001b[0m \u001b[32m━━━━━━━━━━━━━━━━━━━━\u001b[0m\u001b[37m\u001b[0m \u001b[1m0s\u001b[0m 6ms/step - accuracy: 0.7680 - loss: 0.4835 - val_accuracy: 0.7761 - val_loss: 0.5775\n",
      "Epoch 11/50\n",
      "\u001b[1m9/9\u001b[0m \u001b[32m━━━━━━━━━━━━━━━━━━━━\u001b[0m\u001b[37m\u001b[0m \u001b[1m0s\u001b[0m 7ms/step - accuracy: 0.8084 - loss: 0.4841 - val_accuracy: 0.7761 - val_loss: 0.5781\n",
      "Epoch 12/50\n",
      "\u001b[1m9/9\u001b[0m \u001b[32m━━━━━━━━━━━━━━━━━━━━\u001b[0m\u001b[37m\u001b[0m \u001b[1m0s\u001b[0m 8ms/step - accuracy: 0.8044 - loss: 0.4716 - val_accuracy: 0.7761 - val_loss: 0.5799\n",
      "Epoch 13/50\n",
      "\u001b[1m9/9\u001b[0m \u001b[32m━━━━━━━━━━━━━━━━━━━━\u001b[0m\u001b[37m\u001b[0m \u001b[1m0s\u001b[0m 10ms/step - accuracy: 0.8096 - loss: 0.4434 - val_accuracy: 0.7761 - val_loss: 0.5832\n",
      "Epoch 14/50\n",
      "\u001b[1m9/9\u001b[0m \u001b[32m━━━━━━━━━━━━━━━━━━━━\u001b[0m\u001b[37m\u001b[0m \u001b[1m0s\u001b[0m 8ms/step - accuracy: 0.8092 - loss: 0.4695 - val_accuracy: 0.7761 - val_loss: 0.5859\n",
      "Epoch 15/50\n",
      "\u001b[1m9/9\u001b[0m \u001b[32m━━━━━━━━━━━━━━━━━━━━\u001b[0m\u001b[37m\u001b[0m \u001b[1m0s\u001b[0m 8ms/step - accuracy: 0.8192 - loss: 0.4513 - val_accuracy: 0.7612 - val_loss: 0.5878\n",
      "Epoch 16/50\n",
      "\u001b[1m9/9\u001b[0m \u001b[32m━━━━━━━━━━━━━━━━━━━━\u001b[0m\u001b[37m\u001b[0m \u001b[1m0s\u001b[0m 8ms/step - accuracy: 0.8224 - loss: 0.4304 - val_accuracy: 0.7612 - val_loss: 0.5920\n",
      "Epoch 17/50\n",
      "\u001b[1m9/9\u001b[0m \u001b[32m━━━━━━━━━━━━━━━━━━━━\u001b[0m\u001b[37m\u001b[0m \u001b[1m0s\u001b[0m 10ms/step - accuracy: 0.8104 - loss: 0.4694 - val_accuracy: 0.7463 - val_loss: 0.5932\n",
      "Epoch 18/50\n",
      "\u001b[1m9/9\u001b[0m \u001b[32m━━━━━━━━━━━━━━━━━━━━\u001b[0m\u001b[37m\u001b[0m \u001b[1m0s\u001b[0m 8ms/step - accuracy: 0.7965 - loss: 0.4613 - val_accuracy: 0.7463 - val_loss: 0.5936\n",
      "Epoch 19/50\n",
      "\u001b[1m9/9\u001b[0m \u001b[32m━━━━━━━━━━━━━━━━━━━━\u001b[0m\u001b[37m\u001b[0m \u001b[1m0s\u001b[0m 8ms/step - accuracy: 0.8280 - loss: 0.4242 - val_accuracy: 0.7463 - val_loss: 0.5957\n",
      "Epoch 20/50\n",
      "\u001b[1m9/9\u001b[0m \u001b[32m━━━━━━━━━━━━━━━━━━━━\u001b[0m\u001b[37m\u001b[0m \u001b[1m0s\u001b[0m 11ms/step - accuracy: 0.8428 - loss: 0.4147 - val_accuracy: 0.7463 - val_loss: 0.5967\n",
      "Epoch 21/50\n",
      "\u001b[1m9/9\u001b[0m \u001b[32m━━━━━━━━━━━━━━━━━━━━\u001b[0m\u001b[37m\u001b[0m \u001b[1m0s\u001b[0m 10ms/step - accuracy: 0.8103 - loss: 0.4410 - val_accuracy: 0.7164 - val_loss: 0.5972\n",
      "Epoch 22/50\n",
      "\u001b[1m9/9\u001b[0m \u001b[32m━━━━━━━━━━━━━━━━━━━━\u001b[0m\u001b[37m\u001b[0m \u001b[1m0s\u001b[0m 11ms/step - accuracy: 0.8407 - loss: 0.4144 - val_accuracy: 0.7164 - val_loss: 0.5969\n",
      "Epoch 23/50\n",
      "\u001b[1m9/9\u001b[0m \u001b[32m━━━━━━━━━━━━━━━━━━━━\u001b[0m\u001b[37m\u001b[0m \u001b[1m0s\u001b[0m 12ms/step - accuracy: 0.8340 - loss: 0.4064 - val_accuracy: 0.7164 - val_loss: 0.5992\n",
      "Epoch 24/50\n",
      "\u001b[1m9/9\u001b[0m \u001b[32m━━━━━━━━━━━━━━━━━━━━\u001b[0m\u001b[37m\u001b[0m \u001b[1m0s\u001b[0m 10ms/step - accuracy: 0.8239 - loss: 0.4272 - val_accuracy: 0.7313 - val_loss: 0.5995\n",
      "Epoch 25/50\n",
      "\u001b[1m9/9\u001b[0m \u001b[32m━━━━━━━━━━━━━━━━━━━━\u001b[0m\u001b[37m\u001b[0m \u001b[1m0s\u001b[0m 10ms/step - accuracy: 0.8430 - loss: 0.3947 - val_accuracy: 0.7313 - val_loss: 0.5990\n",
      "Epoch 26/50\n",
      "\u001b[1m9/9\u001b[0m \u001b[32m━━━━━━━━━━━━━━━━━━━━\u001b[0m\u001b[37m\u001b[0m \u001b[1m0s\u001b[0m 11ms/step - accuracy: 0.8312 - loss: 0.3907 - val_accuracy: 0.7313 - val_loss: 0.6000\n",
      "Epoch 27/50\n",
      "\u001b[1m9/9\u001b[0m \u001b[32m━━━━━━━━━━━━━━━━━━━━\u001b[0m\u001b[37m\u001b[0m \u001b[1m0s\u001b[0m 8ms/step - accuracy: 0.8092 - loss: 0.4148 - val_accuracy: 0.7313 - val_loss: 0.6004\n",
      "Epoch 28/50\n",
      "\u001b[1m9/9\u001b[0m \u001b[32m━━━━━━━━━━━━━━━━━━━━\u001b[0m\u001b[37m\u001b[0m \u001b[1m0s\u001b[0m 9ms/step - accuracy: 0.8436 - loss: 0.3848 - val_accuracy: 0.7313 - val_loss: 0.6006\n",
      "Epoch 29/50\n",
      "\u001b[1m9/9\u001b[0m \u001b[32m━━━━━━━━━━━━━━━━━━━━\u001b[0m\u001b[37m\u001b[0m \u001b[1m0s\u001b[0m 10ms/step - accuracy: 0.8441 - loss: 0.3727 - val_accuracy: 0.7313 - val_loss: 0.5995\n",
      "Epoch 30/50\n",
      "\u001b[1m9/9\u001b[0m \u001b[32m━━━━━━━━━━━━━━━━━━━━\u001b[0m\u001b[37m\u001b[0m \u001b[1m0s\u001b[0m 9ms/step - accuracy: 0.8519 - loss: 0.3617 - val_accuracy: 0.7313 - val_loss: 0.6066\n",
      "Epoch 31/50\n",
      "\u001b[1m9/9\u001b[0m \u001b[32m━━━━━━━━━━━━━━━━━━━━\u001b[0m\u001b[37m\u001b[0m \u001b[1m0s\u001b[0m 7ms/step - accuracy: 0.8203 - loss: 0.4121 - val_accuracy: 0.7313 - val_loss: 0.6101\n",
      "Epoch 32/50\n",
      "\u001b[1m9/9\u001b[0m \u001b[32m━━━━━━━━━━━━━━━━━━━━\u001b[0m\u001b[37m\u001b[0m \u001b[1m0s\u001b[0m 7ms/step - accuracy: 0.8365 - loss: 0.3897 - val_accuracy: 0.7313 - val_loss: 0.6119\n",
      "Epoch 33/50\n",
      "\u001b[1m9/9\u001b[0m \u001b[32m━━━━━━━━━━━━━━━━━━━━\u001b[0m\u001b[37m\u001b[0m \u001b[1m0s\u001b[0m 8ms/step - accuracy: 0.8515 - loss: 0.3599 - val_accuracy: 0.7313 - val_loss: 0.6048\n",
      "Epoch 34/50\n",
      "\u001b[1m9/9\u001b[0m \u001b[32m━━━━━━━━━━━━━━━━━━━━\u001b[0m\u001b[37m\u001b[0m \u001b[1m0s\u001b[0m 8ms/step - accuracy: 0.8463 - loss: 0.3475 - val_accuracy: 0.7463 - val_loss: 0.6088\n",
      "Epoch 35/50\n",
      "\u001b[1m9/9\u001b[0m \u001b[32m━━━━━━━━━━━━━━━━━━━━\u001b[0m\u001b[37m\u001b[0m \u001b[1m0s\u001b[0m 8ms/step - accuracy: 0.8224 - loss: 0.3786 - val_accuracy: 0.7313 - val_loss: 0.6115\n",
      "Epoch 36/50\n",
      "\u001b[1m9/9\u001b[0m \u001b[32m━━━━━━━━━━━━━━━━━━━━\u001b[0m\u001b[37m\u001b[0m \u001b[1m0s\u001b[0m 8ms/step - accuracy: 0.8546 - loss: 0.3543 - val_accuracy: 0.7463 - val_loss: 0.6121\n",
      "Epoch 37/50\n",
      "\u001b[1m9/9\u001b[0m \u001b[32m━━━━━━━━━━━━━━━━━━━━\u001b[0m\u001b[37m\u001b[0m \u001b[1m0s\u001b[0m 10ms/step - accuracy: 0.8282 - loss: 0.3686 - val_accuracy: 0.7313 - val_loss: 0.6196\n",
      "Epoch 38/50\n",
      "\u001b[1m9/9\u001b[0m \u001b[32m━━━━━━━━━━━━━━━━━━━━\u001b[0m\u001b[37m\u001b[0m \u001b[1m0s\u001b[0m 7ms/step - accuracy: 0.8479 - loss: 0.3624 - val_accuracy: 0.7313 - val_loss: 0.6165\n",
      "Epoch 39/50\n",
      "\u001b[1m9/9\u001b[0m \u001b[32m━━━━━━━━━━━━━━━━━━━━\u001b[0m\u001b[37m\u001b[0m \u001b[1m0s\u001b[0m 8ms/step - accuracy: 0.8720 - loss: 0.3237 - val_accuracy: 0.7313 - val_loss: 0.6159\n",
      "Epoch 40/50\n",
      "\u001b[1m9/9\u001b[0m \u001b[32m━━━━━━━━━━━━━━━━━━━━\u001b[0m\u001b[37m\u001b[0m \u001b[1m0s\u001b[0m 8ms/step - accuracy: 0.8353 - loss: 0.3699 - val_accuracy: 0.7313 - val_loss: 0.6288\n",
      "Epoch 41/50\n",
      "\u001b[1m9/9\u001b[0m \u001b[32m━━━━━━━━━━━━━━━━━━━━\u001b[0m\u001b[37m\u001b[0m \u001b[1m0s\u001b[0m 9ms/step - accuracy: 0.8617 - loss: 0.3282 - val_accuracy: 0.7313 - val_loss: 0.6296\n",
      "Epoch 42/50\n",
      "\u001b[1m9/9\u001b[0m \u001b[32m━━━━━━━━━━━━━━━━━━━━\u001b[0m\u001b[37m\u001b[0m \u001b[1m0s\u001b[0m 8ms/step - accuracy: 0.8548 - loss: 0.3378 - val_accuracy: 0.7313 - val_loss: 0.6256\n",
      "Epoch 43/50\n",
      "\u001b[1m9/9\u001b[0m \u001b[32m━━━━━━━━━━━━━━━━━━━━\u001b[0m\u001b[37m\u001b[0m \u001b[1m0s\u001b[0m 8ms/step - accuracy: 0.8408 - loss: 0.3665 - val_accuracy: 0.7313 - val_loss: 0.6261\n",
      "Epoch 44/50\n",
      "\u001b[1m9/9\u001b[0m \u001b[32m━━━━━━━━━━━━━━━━━━━━\u001b[0m\u001b[37m\u001b[0m \u001b[1m0s\u001b[0m 8ms/step - accuracy: 0.8510 - loss: 0.3281 - val_accuracy: 0.7164 - val_loss: 0.6353\n",
      "Epoch 45/50\n",
      "\u001b[1m9/9\u001b[0m \u001b[32m━━━━━━━━━━━━━━━━━━━━\u001b[0m\u001b[37m\u001b[0m \u001b[1m0s\u001b[0m 10ms/step - accuracy: 0.8791 - loss: 0.3156 - val_accuracy: 0.7313 - val_loss: 0.6335\n",
      "Epoch 46/50\n",
      "\u001b[1m9/9\u001b[0m \u001b[32m━━━━━━━━━━━━━━━━━━━━\u001b[0m\u001b[37m\u001b[0m \u001b[1m0s\u001b[0m 10ms/step - accuracy: 0.8777 - loss: 0.3057 - val_accuracy: 0.7313 - val_loss: 0.6358\n",
      "Epoch 47/50\n",
      "\u001b[1m9/9\u001b[0m \u001b[32m━━━━━━━━━━━━━━━━━━━━\u001b[0m\u001b[37m\u001b[0m \u001b[1m0s\u001b[0m 8ms/step - accuracy: 0.8481 - loss: 0.3501 - val_accuracy: 0.7164 - val_loss: 0.6351\n",
      "Epoch 48/50\n",
      "\u001b[1m9/9\u001b[0m \u001b[32m━━━━━━━━━━━━━━━━━━━━\u001b[0m\u001b[37m\u001b[0m \u001b[1m0s\u001b[0m 9ms/step - accuracy: 0.8738 - loss: 0.3122 - val_accuracy: 0.7313 - val_loss: 0.6372\n",
      "Epoch 49/50\n",
      "\u001b[1m9/9\u001b[0m \u001b[32m━━━━━━━━━━━━━━━━━━━━\u001b[0m\u001b[37m\u001b[0m \u001b[1m0s\u001b[0m 10ms/step - accuracy: 0.8668 - loss: 0.3175 - val_accuracy: 0.7313 - val_loss: 0.6378\n",
      "Epoch 50/50\n",
      "\u001b[1m9/9\u001b[0m \u001b[32m━━━━━━━━━━━━━━━━━━━━\u001b[0m\u001b[37m\u001b[0m \u001b[1m0s\u001b[0m 9ms/step - accuracy: 0.8258 - loss: 0.3770 - val_accuracy: 0.7164 - val_loss: 0.6378\n"
     ]
    }
   ],
   "source": [
    "# Entrenar el modelo\n",
    "historial = modelo.fit(\n",
    "    X_train, \n",
    "    y_train, \n",
    "    epochs=50,         # Número de iteraciones (epocas) completas sobre los datos,  el modelo verá los datos 50 veces.\n",
    "    batch_size=32,     # Tamaño del lote\n",
    "    validation_split=0.2  # Usar el 20% del entrenamiento como validación\n",
    ")\n"
   ]
  },
  {
   "cell_type": "code",
   "execution_count": 178,
   "id": "4c9554b3-def7-4738-bf99-bf3ef5759c54",
   "metadata": {},
   "outputs": [
    {
     "name": "stdout",
     "output_type": "stream",
     "text": [
      "\u001b[1m3/3\u001b[0m \u001b[32m━━━━━━━━━━━━━━━━━━━━\u001b[0m\u001b[37m\u001b[0m \u001b[1m0s\u001b[0m 708us/step - accuracy: 0.7933 - loss: 0.5418\n",
      "Pérdida en el conjunto de prueba: 0.5285418033599854\n",
      "Precisión en el conjunto de prueba: 0.7976190447807312\n"
     ]
    }
   ],
   "source": [
    "# Evaluar el modelo con los datos de prueba\n",
    "resultados = modelo.evaluate(X_test, y_test)\n",
    "print(\"Pérdida en el conjunto de prueba:\", resultados[0])\n",
    "print(\"Precisión en el conjunto de prueba:\", resultados[1])\n"
   ]
  },
  {
   "cell_type": "code",
   "execution_count": 180,
   "id": "df5b05ee-4225-4562-8f1a-0e9eaf9f5188",
   "metadata": {},
   "outputs": [
    {
     "data": {
      "image/png": "[encoded data removed]",
      "text/plain": [
       "<Figure size 640x480 with 1 Axes>"
      ]
     },
     "metadata": {},
     "output_type": "display_data"
    }
   ],
   "source": [
    "import matplotlib.pyplot as plt\n",
    "\n",
    "plt.plot(historial.history['accuracy'], label='Precisión de entrenamiento')\n",
    "plt.plot(historial.history['val_accuracy'], label='Precisión de validación')\n",
    "plt.legend()\n",
    "plt.show()\n"
   ]
  },
  {
   "cell_type": "code",
   "execution_count": 184,
   "id": "c2ea1269-9f76-4fe1-af84-c53561b2460a",
   "metadata": {},
   "outputs": [
    {
     "name": "stdout",
     "output_type": "stream",
     "text": [
      "\u001b[1m1/1\u001b[0m \u001b[32m━━━━━━━━━━━━━━━━━━━━\u001b[0m\u001b[37m\u001b[0m \u001b[1m0s\u001b[0m 6ms/step\n",
      "Distribución de probabilidades: [[0.05612051 0.9438795 ]]\n",
      "Clase predicha: 1\n"
     ]
    },
    {
     "name": "stderr",
     "output_type": "stream",
     "text": [
      "C:\\Users\\DELL CI5\\anaconda3\\Lib\\site-packages\\sklearn\\base.py:493: UserWarning: X does not have valid feature names, but StandardScaler was fitted with feature names\n",
      "  warnings.warn(\n"
     ]
    }
   ],
   "source": [
    "# Crear una muestra ficticia\n",
    "# nueva_muestra = np.array([[4,1,3,1,0,3,1,4,0,1,1,0,0,0,0,1,1,0,0]])  # Clase 1\n",
    "# nueva_muestra = np.array([[4,1,4,1,0,4,3,4,0,0,1,0,0,0,0,0,1,0,0]])  # clase 0\n",
    "\n",
    "# nueva_muestra = np.array([[2,1,2,1,0,3,0,4,0,1,1,0,0,0,0,1,1,0,0]])  # clase 0\n",
    "nueva_muestra = np.array([[1,1,3,1,0,3,2,4,0,1,0,0,0,0,0,0,0,0,5]])  # clase 1\n",
    "\n",
    "nueva_muestra = scaler.transform(nueva_muestra)  # Normalizar la muestra\n",
    "\n",
    "# Predecir la clase\n",
    "prediccion = modelo.predict(nueva_muestra)\n",
    "print(\"Distribución de probabilidades:\", prediccion)\n",
    "print(\"Clase predicha:\", np.argmax(prediccion))  # Índice de la clase con mayor probabilidad\n",
    "\n"
   ]
  },
  {
   "cell_type": "code",
   "execution_count": 186,
   "id": "b47ef654-21ea-4f4c-8c15-ef00cf3928e6",
   "metadata": {},
   "outputs": [
    {
     "name": "stdout",
     "output_type": "stream",
     "text": [
      "Distribución de clases en el conjunto de entrenamiento:\n",
      "Deserto\n",
      "0    257\n",
      "1     78\n",
      "Name: count, dtype: int64\n",
      "\n",
      "Distribución de clases en el conjunto de prueba:\n",
      "Deserto\n",
      "0    63\n",
      "1    21\n",
      "Name: count, dtype: int64\n"
     ]
    }
   ],
   "source": [
    "import pandas as pd\n",
    "\n",
    "# Verifica el balance de las clases en los datos de entrenamiento\n",
    "print(\"Distribución de clases en el conjunto de entrenamiento:\")\n",
    "print(pd.Series(y_train).value_counts())\n",
    "\n",
    "# Verifica el balance de las clases en los datos de prueba\n",
    "print(\"\\nDistribución de clases en el conjunto de prueba:\")\n",
    "print(pd.Series(y_test).value_counts())\n"
   ]
  },
  {
   "cell_type": "markdown",
   "id": "0417f832-096b-4a5e-9685-93a21cd7f57e",
   "metadata": {},
   "source": [
    "# Otras metricas de analisis "
   ]
  },
  {
   "cell_type": "code",
   "execution_count": 188,
   "id": "4a718586-f30b-4d97-9d19-a42d866e48d2",
   "metadata": {},
   "outputs": [
    {
     "name": "stdout",
     "output_type": "stream",
     "text": [
      "\u001b[1m3/3\u001b[0m \u001b[32m━━━━━━━━━━━━━━━━━━━━\u001b[0m\u001b[37m\u001b[0m \u001b[1m0s\u001b[0m 8ms/step \n",
      "Forma de y_test: (84,)\n",
      "Forma de y_pred_classes: (84,)\n",
      "Accuracy: 0.7976\n",
      "Precision: 0.8333\n",
      "Recall: 0.2381\n",
      "F1-score: 0.3704\n",
      "\n",
      "Reporte de clasificación:\n",
      "\n",
      "              precision    recall  f1-score   support\n",
      "\n",
      "           0       0.79      0.98      0.88        63\n",
      "           1       0.83      0.24      0.37        21\n",
      "\n",
      "    accuracy                           0.80        84\n",
      "   macro avg       0.81      0.61      0.62        84\n",
      "weighted avg       0.80      0.80      0.75        84\n",
      "\n"
     ]
    }
   ],
   "source": [
    "from sklearn.metrics import accuracy_score, precision_score, recall_score, f1_score, classification_report\n",
    "\n",
    "# Obtener predicciones del modelo\n",
    "y_pred = modelo.predict(X_test)\n",
    "\n",
    "\n",
    "# Convertir probabilidades en etiquetas (seleccionando la clase con mayor probabilidad)\n",
    "y_pred_classes = y_pred.argmax(axis=1)  # Convierte (84,2) → (84,)\n",
    "\n",
    "# Verificar formas después de la conversión\n",
    "print(f\"Forma de y_test: {y_test.shape}\")  \n",
    "print(f\"Forma de y_pred_classes: {y_pred_classes.shape}\")\n",
    "\n",
    "# Calcular métricas\n",
    "accuracy = accuracy_score(y_test, y_pred_classes)\n",
    "precision = precision_score(y_test, y_pred_classes)\n",
    "recall = recall_score(y_test, y_pred_classes)\n",
    "f1 = f1_score(y_test, y_pred_classes)\n",
    "\n",
    "# Mostrar resultados\n",
    "print(f\"Accuracy: {accuracy:.4f}\")\n",
    "print(f\"Precision: {precision:.4f}\")\n",
    "print(f\"Recall: {recall:.4f}\")\n",
    "print(f\"F1-score: {f1:.4f}\")\n",
    "\n",
    "# Mostrar reporte de clasificación\n",
    "print(\"\\nReporte de clasificación:\\n\")\n",
    "print(classification_report(y_test, y_pred_classes))\n",
    "\n"
   ]
  },
  {
   "cell_type": "code",
   "execution_count": 166,
   "id": "9009985f-9d09-4152-ac6f-fde09c5f4ceb",
   "metadata": {},
   "outputs": [
    {
     "name": "stdout",
     "output_type": "stream",
     "text": [
      "Forma de y_test: (84,)\n",
      "Forma de y_pred_classes: (84,)\n"
     ]
    }
   ],
   "source": [
    "print(f\"Forma de y_test: {y_test.shape}\")  \n",
    "print(f\"Forma de y_pred_classes: {y_pred_classes.shape}\")\n"
   ]
  },
  {
   "cell_type": "code",
   "execution_count": null,
   "id": "1138ac74-42d1-4bbc-a535-e5293d85823a",
   "metadata": {},
   "outputs": [],
   "source": []
  }
 ],
 "metadata": {
  "kernelspec": {
   "display_name": "Python 3 (ipykernel)",
   "language": "python",
   "name": "python3"
  },
  "language_info": {
   "codemirror_mode": {
    "name": "ipython",
    "version": 3
   },
   "file_extension": ".py",
   "mimetype": "text/x-python",
   "name": "python",
   "nbconvert_exporter": "python",
   "pygments_lexer": "ipython3",
   "version": "3.11.7"
  }
 },
 "nbformat": 4,
 "nbformat_minor": 5
}
